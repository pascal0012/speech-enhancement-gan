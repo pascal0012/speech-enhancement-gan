{
 "cells": [
  {
   "cell_type": "markdown",
   "metadata": {},
   "source": [
    "# Reconstruction Error on the validation and test sets"
   ]
  },
  {
   "cell_type": "code",
   "execution_count": null,
   "metadata": {},
   "outputs": [],
   "source": [
    "import os\n",
    "import torch\n",
    "from src.util.device import set_device\n",
    "from torch import nn\n",
    "from src.data.filesampler import sample_filepaths\n",
    "from src.util.consts import TEST_TASK_1\n",
    "from src.util.signals import load_chunks_pair_list\n",
    "\n",
    "PATH = \"\""
   ]
  },
  {
   "cell_type": "code",
   "execution_count": null,
   "metadata": {},
   "outputs": [],
   "source": [
    "os.environ['CUDA_VISIBLE_DEVICES'] = \"0\"\n",
    "device = set_device()"
   ]
  },
  {
   "cell_type": "code",
   "execution_count": null,
   "metadata": {},
   "outputs": [],
   "source": [
    "test_paths = sample_filepaths(TEST_TASK_1, sample_rate=1)\n",
    "with open('../val_paths.txt', \"r\") as f:\n",
    "            val_paths = [line.split(',') for line in f.read().splitlines()]\n",
    "val_chunks = load_chunks_pair_list(val_paths)\n",
    "test_chunks = load_chunks_pair_list(sampled_paths=test_paths)"
   ]
  },
  {
   "cell_type": "code",
   "execution_count": null,
   "metadata": {},
   "outputs": [],
   "source": [
    "loss = nn.MSELoss()\n",
    "\n",
    "def test(chunks, model):\n",
    "    recorded_chunks = torch.cat([chunk[1] for chunk in chunks], dim=0)\n",
    "    clean_chunks = torch.cat([chunk[0] for chunk in chunks], dim=0)\n",
    "\n",
    "    chunk_recon_loss = 0\n",
    "\n",
    "    # Pass all recorded chunks through generator at once\n",
    "    all_result_chunks = torch.cat(\n",
    "        [\n",
    "            model(recorded_chunks[i * 128 : (i + 1) * 128].to(device)).detach().to('cpu')\n",
    "            for i in range(recorded_chunks.shape[0] // 128 + 1)\n",
    "        ],\n",
    "        dim=0,\n",
    "    )\n",
    "\n",
    "    for (clean_chunks, recorded_chunks) in chunks:\n",
    "        # Get result chunks for current file and remove them from chunk list\n",
    "        result_chunks = all_result_chunks[: len(recorded_chunks)]\n",
    "        all_result_chunks = all_result_chunks[len(recorded_chunks) :]\n",
    "\n",
    "        # Calculate loss for chunks\n",
    "        chunk_recon_loss += loss(result_chunks, clean_chunks) / len(chunks)\n",
    "\n",
    "    return chunk_recon_loss"
   ]
  },
  {
   "cell_type": "code",
   "execution_count": null,
   "metadata": {},
   "outputs": [],
   "source": [
    "from src.segan import SEGAN\n",
    "\n",
    "\n",
    "dirs = [dir for dir in os.listdir() if os.path.isdir(dir)]\n",
    "\n",
    "val_errors = []\n",
    "test_errors = []\n",
    "\n",
    "segan = SEGAN()\n",
    "for dir in dirs:\n",
    "    # Load generator\n",
    "    path = os.path.join(PATH, dir)\n",
    "    path = os.path.join(path, f\"{dir}_generator.pt\")\n",
    "    segan.load(path)\n",
    "\n",
    "    val_result = test(val_chunks, segan.generator)\n",
    "    test_result = test(test_chunks, segan.generator)\n",
    "\n",
    "    val_errors.append(val_result)\n",
    "    test_errors.append(test_result)\n",
    "\n",
    "    print(f\"Calculated error for {dir}!\")\n",
    "    "
   ]
  },
  {
   "cell_type": "code",
   "execution_count": null,
   "metadata": {},
   "outputs": [],
   "source": [
    "output_path = os.path.join(PATH, \"reconstruction.txt\")\n",
    "f = open(output_path, \"w\")\n",
    "f.write(str(val_errors))\n",
    "f.write(\"\\n\")\n",
    "f.write(str(test_errors))\n",
    "f.close()"
   ]
  }
 ],
 "metadata": {
  "kernelspec": {
   "display_name": ".venv",
   "language": "python",
   "name": "python3"
  },
  "language_info": {
   "name": "python",
   "version": "3.12.6"
  }
 },
 "nbformat": 4,
 "nbformat_minor": 2
}
